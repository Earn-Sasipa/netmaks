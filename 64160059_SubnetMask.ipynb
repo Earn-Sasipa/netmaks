{
  "nbformat": 4,
  "nbformat_minor": 0,
  "metadata": {
    "colab": {
      "provenance": [],
      "authorship_tag": "ABX9TyP8AQixrb6CRZVO+dPdWI3e",
      "include_colab_link": true
    },
    "kernelspec": {
      "name": "python3",
      "display_name": "Python 3"
    },
    "language_info": {
      "name": "python"
    }
  },
  "cells": [
    {
      "cell_type": "markdown",
      "metadata": {
        "id": "view-in-github",
        "colab_type": "text"
      },
      "source": [
        "<a href=\"https://colab.research.google.com/github/Earn-Sasipa/netmaks/blob/main/64160059_SubnetMask.ipynb\" target=\"_parent\"><img src=\"https://colab.research.google.com/assets/colab-badge.svg\" alt=\"Open In Colab\"/></a>"
      ]
    },
    {
      "cell_type": "code",
      "source": [
        "import ipaddress\n",
        "\n",
        "def calculate_subnet_info(ip, prefix_length):\n",
        "    try:\n",
        "        network = ipaddress.IPv4Network(f'{ip}/{prefix_length}', strict=False)\n",
        "        subnet_mask = str(network.netmask)\n",
        "        wildcard_mask = str(network.hostmask)\n",
        "        mask_bits = prefix_length\n",
        "        hosts_per_subnet = 2 ** (32 - prefix_length) - 2\n",
        "\n",
        "        first_octet = int(ip.split('.')[0])\n",
        "        network_class = 'Unknown'\n",
        "        if 192 <= first_octet <= 223:\n",
        "            network_class = 'C'\n",
        "            subnet_bits = prefix_length - 24\n",
        "            maximum_subnets = 2 ** subnet_bits\n",
        "        elif 128 <= first_octet <= 191:\n",
        "            network_class = 'B'\n",
        "            subnet_bits = prefix_length - 16\n",
        "            maximum_subnets = 2 ** subnet_bits\n",
        "        elif 1 <= first_octet <= 126:\n",
        "            network_class = 'A'\n",
        "            subnet_bits = prefix_length - 8\n",
        "            maximum_subnets = 2 ** subnet_bits\n",
        "\n",
        "        hex_ip = '.'.join([format(int(octet), '02X') for octet in ip.split('.')])\n",
        "        host_address_range = f'{str(network.network_address + 1)} - {str(network.broadcast_address - 1)}'\n",
        "\n",
        "        return f\"Network Class: {network_class}\\nFirst Octet Range: {first_octet}-223\\nHex IP Address: {hex_ip}\\nIP Address: {ip}\\nSubnet Mask: {subnet_mask}\\nWildcard Mask: {wildcard_mask}\\nSubnet Bits: {subnet_bits}\\nMask Bits: {mask_bits}\\nMaximum Subnets: {maximum_subnets}\\nHosts per Subnet: {hosts_per_subnet}\\nHost Address Range: {host_address_range}\"\n",
        "    except ValueError:\n",
        "        return \"Invalid IP address or prefix length.\"\n",
        "\n",
        "ip = input(\"Enter IP address (e.g., 192.168.1.1): \")\n",
        "prefix_length = int(input(\"Enter subnet prefix length (e.g., 24): \"))\n",
        "result = calculate_subnet_info(ip, prefix_length)\n",
        "print(result)"
      ],
      "metadata": {
        "colab": {
          "base_uri": "https://localhost:8080/"
        },
        "id": "Tlgal1ebk7vW",
        "outputId": "da5525eb-ba29-412f-d60d-c2ac219aa2b0"
      },
      "execution_count": null,
      "outputs": [
        {
          "output_type": "stream",
          "name": "stdout",
          "text": [
            "Enter IP address (e.g., 192.168.1.1): 10.0.0.5\n",
            "Enter subnet prefix length (e.g., 24): 8\n",
            "Network Class: A\n",
            "First Octet Range: 10-223\n",
            "Hex IP Address: 0A.00.00.05\n",
            "IP Address: 10.0.0.5\n",
            "Subnet Mask: 255.0.0.0\n",
            "Wildcard Mask: 0.255.255.255\n",
            "Subnet Bits: 0\n",
            "Mask Bits: 8\n",
            "Maximum Subnets: 1\n",
            "Hosts per Subnet: 16777214\n",
            "Host Address Range: 10.0.0.1 - 10.255.255.254\n"
          ]
        }
      ]
    }
  ]
}